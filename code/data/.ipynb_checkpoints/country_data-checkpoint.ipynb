{
 "cells": [
  {
   "cell_type": "markdown",
   "metadata": {},
   "source": [
    "## Notebook used to figure out how to effectively get the data json."
   ]
  },
  {
   "cell_type": "code",
   "execution_count": 1,
   "metadata": {},
   "outputs": [],
   "source": [
    "import numpy as np\n",
    "import pandas as pd"
   ]
  },
  {
   "cell_type": "code",
   "execution_count": 2,
   "metadata": {},
   "outputs": [
    {
     "data": {
      "text/plain": [
       "2849"
      ]
     },
     "execution_count": 2,
     "metadata": {},
     "output_type": "execute_result"
    }
   ],
   "source": [
    "df = pd.read_excel(\"SE4ALLEXCEL.xlsx\")\n",
    "df.shape[0]"
   ]
  },
  {
   "cell_type": "markdown",
   "metadata": {},
   "source": [
    "Since we are only needing to use total/rural electricity access, drop all rows that aren't that."
   ]
  },
  {
   "cell_type": "code",
   "execution_count": 3,
   "metadata": {},
   "outputs": [
    {
     "data": {
      "text/plain": [
       "518"
      ]
     },
     "execution_count": 3,
     "metadata": {},
     "output_type": "execute_result"
    }
   ],
   "source": [
    "elecDf = df.loc[(df[\"Indicator Code\"] == \"1.2_ACCESS.ELECTRICITY.RURAL\") | \n",
    "                (df[\"Indicator Code\"] == \"1.1_ACCESS.ELECTRICITY.TOT\")]\n",
    "elecDf.shape[0]"
   ]
  },
  {
   "cell_type": "code",
   "execution_count": 4,
   "metadata": {},
   "outputs": [
    {
     "data": {
      "text/html": [
       "<div>\n",
       "<style scoped>\n",
       "    .dataframe tbody tr th:only-of-type {\n",
       "        vertical-align: middle;\n",
       "    }\n",
       "\n",
       "    .dataframe tbody tr th {\n",
       "        vertical-align: top;\n",
       "    }\n",
       "\n",
       "    .dataframe thead th {\n",
       "        text-align: right;\n",
       "    }\n",
       "</style>\n",
       "<table border=\"1\" class=\"dataframe\">\n",
       "  <thead>\n",
       "    <tr style=\"text-align: right;\">\n",
       "      <th></th>\n",
       "      <th>Country Name</th>\n",
       "      <th>Country Code</th>\n",
       "      <th>Indicator Name</th>\n",
       "      <th>Indicator Code</th>\n",
       "      <th>1990</th>\n",
       "      <th>1991</th>\n",
       "      <th>1992</th>\n",
       "      <th>1993</th>\n",
       "      <th>1994</th>\n",
       "      <th>1995</th>\n",
       "      <th>...</th>\n",
       "      <th>2007</th>\n",
       "      <th>2008</th>\n",
       "      <th>2009</th>\n",
       "      <th>2010</th>\n",
       "      <th>2011</th>\n",
       "      <th>2012</th>\n",
       "      <th>2013</th>\n",
       "      <th>2014</th>\n",
       "      <th>2015</th>\n",
       "      <th>2016</th>\n",
       "    </tr>\n",
       "  </thead>\n",
       "  <tbody>\n",
       "    <tr>\n",
       "      <th>1</th>\n",
       "      <td>BES Islands</td>\n",
       "      <td>BES</td>\n",
       "      <td>Access to electricity (% of rural population w...</td>\n",
       "      <td>1.2_ACCESS.ELECTRICITY.RURAL</td>\n",
       "      <td>NaN</td>\n",
       "      <td>NaN</td>\n",
       "      <td>NaN</td>\n",
       "      <td>NaN</td>\n",
       "      <td>NaN</td>\n",
       "      <td>NaN</td>\n",
       "      <td>...</td>\n",
       "      <td>NaN</td>\n",
       "      <td>NaN</td>\n",
       "      <td>NaN</td>\n",
       "      <td>NaN</td>\n",
       "      <td>NaN</td>\n",
       "      <td>NaN</td>\n",
       "      <td>NaN</td>\n",
       "      <td>NaN</td>\n",
       "      <td>NaN</td>\n",
       "      <td>NaN</td>\n",
       "    </tr>\n",
       "    <tr>\n",
       "      <th>2</th>\n",
       "      <td>BES Islands</td>\n",
       "      <td>BES</td>\n",
       "      <td>Access to electricity (% of total population)</td>\n",
       "      <td>1.1_ACCESS.ELECTRICITY.TOT</td>\n",
       "      <td>NaN</td>\n",
       "      <td>NaN</td>\n",
       "      <td>NaN</td>\n",
       "      <td>NaN</td>\n",
       "      <td>NaN</td>\n",
       "      <td>NaN</td>\n",
       "      <td>...</td>\n",
       "      <td>NaN</td>\n",
       "      <td>NaN</td>\n",
       "      <td>NaN</td>\n",
       "      <td>NaN</td>\n",
       "      <td>NaN</td>\n",
       "      <td>NaN</td>\n",
       "      <td>NaN</td>\n",
       "      <td>NaN</td>\n",
       "      <td>NaN</td>\n",
       "      <td>NaN</td>\n",
       "    </tr>\n",
       "    <tr>\n",
       "      <th>12</th>\n",
       "      <td>Nauru</td>\n",
       "      <td>NRU</td>\n",
       "      <td>Access to electricity (% of rural population w...</td>\n",
       "      <td>1.2_ACCESS.ELECTRICITY.RURAL</td>\n",
       "      <td>NaN</td>\n",
       "      <td>NaN</td>\n",
       "      <td>NaN</td>\n",
       "      <td>NaN</td>\n",
       "      <td>NaN</td>\n",
       "      <td>NaN</td>\n",
       "      <td>...</td>\n",
       "      <td>NaN</td>\n",
       "      <td>NaN</td>\n",
       "      <td>NaN</td>\n",
       "      <td>NaN</td>\n",
       "      <td>NaN</td>\n",
       "      <td>NaN</td>\n",
       "      <td>NaN</td>\n",
       "      <td>NaN</td>\n",
       "      <td>NaN</td>\n",
       "      <td>NaN</td>\n",
       "    </tr>\n",
       "    <tr>\n",
       "      <th>13</th>\n",
       "      <td>Nauru</td>\n",
       "      <td>NRU</td>\n",
       "      <td>Access to electricity (% of total population)</td>\n",
       "      <td>1.1_ACCESS.ELECTRICITY.TOT</td>\n",
       "      <td>100.0</td>\n",
       "      <td>100.0</td>\n",
       "      <td>100.0</td>\n",
       "      <td>100.0</td>\n",
       "      <td>100.0</td>\n",
       "      <td>100.0</td>\n",
       "      <td>...</td>\n",
       "      <td>99.8</td>\n",
       "      <td>99.254089</td>\n",
       "      <td>99.205658</td>\n",
       "      <td>99.175644</td>\n",
       "      <td>99.0</td>\n",
       "      <td>99.162201</td>\n",
       "      <td>99.162445</td>\n",
       "      <td>99.172058</td>\n",
       "      <td>99.0</td>\n",
       "      <td>99.202805</td>\n",
       "    </tr>\n",
       "    <tr>\n",
       "      <th>23</th>\n",
       "      <td>Niue</td>\n",
       "      <td>NIU</td>\n",
       "      <td>Access to electricity (% of rural population w...</td>\n",
       "      <td>1.2_ACCESS.ELECTRICITY.RURAL</td>\n",
       "      <td>NaN</td>\n",
       "      <td>NaN</td>\n",
       "      <td>NaN</td>\n",
       "      <td>NaN</td>\n",
       "      <td>NaN</td>\n",
       "      <td>NaN</td>\n",
       "      <td>...</td>\n",
       "      <td>NaN</td>\n",
       "      <td>NaN</td>\n",
       "      <td>NaN</td>\n",
       "      <td>NaN</td>\n",
       "      <td>NaN</td>\n",
       "      <td>NaN</td>\n",
       "      <td>NaN</td>\n",
       "      <td>NaN</td>\n",
       "      <td>NaN</td>\n",
       "      <td>NaN</td>\n",
       "    </tr>\n",
       "  </tbody>\n",
       "</table>\n",
       "<p>5 rows × 31 columns</p>\n",
       "</div>"
      ],
      "text/plain": [
       "   Country Name Country Code  \\\n",
       "1   BES Islands          BES   \n",
       "2   BES Islands          BES   \n",
       "12        Nauru          NRU   \n",
       "13        Nauru          NRU   \n",
       "23         Niue          NIU   \n",
       "\n",
       "                                       Indicator Name  \\\n",
       "1   Access to electricity (% of rural population w...   \n",
       "2       Access to electricity (% of total population)   \n",
       "12  Access to electricity (% of rural population w...   \n",
       "13      Access to electricity (% of total population)   \n",
       "23  Access to electricity (% of rural population w...   \n",
       "\n",
       "                  Indicator Code   1990   1991   1992   1993   1994   1995  \\\n",
       "1   1.2_ACCESS.ELECTRICITY.RURAL    NaN    NaN    NaN    NaN    NaN    NaN   \n",
       "2     1.1_ACCESS.ELECTRICITY.TOT    NaN    NaN    NaN    NaN    NaN    NaN   \n",
       "12  1.2_ACCESS.ELECTRICITY.RURAL    NaN    NaN    NaN    NaN    NaN    NaN   \n",
       "13    1.1_ACCESS.ELECTRICITY.TOT  100.0  100.0  100.0  100.0  100.0  100.0   \n",
       "23  1.2_ACCESS.ELECTRICITY.RURAL    NaN    NaN    NaN    NaN    NaN    NaN   \n",
       "\n",
       "    ...  2007       2008       2009       2010  2011       2012       2013  \\\n",
       "1   ...   NaN        NaN        NaN        NaN   NaN        NaN        NaN   \n",
       "2   ...   NaN        NaN        NaN        NaN   NaN        NaN        NaN   \n",
       "12  ...   NaN        NaN        NaN        NaN   NaN        NaN        NaN   \n",
       "13  ...  99.8  99.254089  99.205658  99.175644  99.0  99.162201  99.162445   \n",
       "23  ...   NaN        NaN        NaN        NaN   NaN        NaN        NaN   \n",
       "\n",
       "         2014  2015       2016  \n",
       "1         NaN   NaN        NaN  \n",
       "2         NaN   NaN        NaN  \n",
       "12        NaN   NaN        NaN  \n",
       "13  99.172058  99.0  99.202805  \n",
       "23        NaN   NaN        NaN  \n",
       "\n",
       "[5 rows x 31 columns]"
      ]
     },
     "execution_count": 4,
     "metadata": {},
     "output_type": "execute_result"
    }
   ],
   "source": [
    "elecDf.head()"
   ]
  },
  {
   "cell_type": "markdown",
   "metadata": {},
   "source": [
    "The only things we really need is the country code, the rural electricity access time series, and the total elec. access time series.\n",
    "\n",
    "So we can just define a new dataframe that has just that."
   ]
  },
  {
   "cell_type": "code",
   "execution_count": 5,
   "metadata": {},
   "outputs": [],
   "source": [
    "total_lists_nums = []\n",
    "rural_lists_nums = []\n",
    "\n",
    "#want to populate new_columns 1.2RURAL, 1.1TOT with corresponding list\n",
    "for i, vals in elecDf.iterrows():\n",
    "    if i%2 == 0:\n",
    "        rural_lists_nums.append(vals.values[4:]) #get the time series values\n",
    "    else:\n",
    "        total_lists_nums.append(vals.values[4:])\n",
    "        \n",
    "#no need to worry about if rural or total lists are the same length, since the dataframe is guaranteed to have\n",
    "#an even number of rows, since there are 2 rows for each country\n",
    "#just need to create new df with only unique country codes\n",
    "finalDf = pd.DataFrame({\"COUNTRY.CODE\": elecDf[\"Country Code\"].unique()}) #note that pandas.unique doesn't sort the values unlike np.unique\n",
    "finalDf[\"ACCESS.ELECTRICITY.RURAL\"] = rural_lists_nums\n",
    "finalDf[\"ACCESS.ELECTRICITY.TOTAL\"] = total_lists_nums"
   ]
  },
  {
   "cell_type": "code",
   "execution_count": 6,
   "metadata": {},
   "outputs": [
    {
     "data": {
      "text/html": [
       "<div>\n",
       "<style scoped>\n",
       "    .dataframe tbody tr th:only-of-type {\n",
       "        vertical-align: middle;\n",
       "    }\n",
       "\n",
       "    .dataframe tbody tr th {\n",
       "        vertical-align: top;\n",
       "    }\n",
       "\n",
       "    .dataframe thead th {\n",
       "        text-align: right;\n",
       "    }\n",
       "</style>\n",
       "<table border=\"1\" class=\"dataframe\">\n",
       "  <thead>\n",
       "    <tr style=\"text-align: right;\">\n",
       "      <th></th>\n",
       "      <th>COUNTRY.CODE</th>\n",
       "      <th>ACCESS.ELECTRICITY.RURAL</th>\n",
       "      <th>ACCESS.ELECTRICITY.TOTAL</th>\n",
       "    </tr>\n",
       "  </thead>\n",
       "  <tbody>\n",
       "    <tr>\n",
       "      <th>0</th>\n",
       "      <td>BES</td>\n",
       "      <td>[nan, nan, nan, nan, nan, nan, nan, nan, nan, ...</td>\n",
       "      <td>[nan, nan, nan, nan, nan, nan, nan, nan, nan, ...</td>\n",
       "    </tr>\n",
       "    <tr>\n",
       "      <th>1</th>\n",
       "      <td>NRU</td>\n",
       "      <td>[nan, nan, nan, nan, nan, nan, nan, nan, nan, ...</td>\n",
       "      <td>[100.0, 100.0, 100.0, 100.0, 100.0, 100.0, 100...</td>\n",
       "    </tr>\n",
       "    <tr>\n",
       "      <th>2</th>\n",
       "      <td>NIU</td>\n",
       "      <td>[nan, nan, nan, nan, nan, nan, nan, nan, nan, ...</td>\n",
       "      <td>[nan, nan, nan, nan, nan, nan, nan, nan, nan, ...</td>\n",
       "    </tr>\n",
       "    <tr>\n",
       "      <th>3</th>\n",
       "      <td>WLF</td>\n",
       "      <td>[nan, nan, nan, nan, nan, nan, nan, nan, nan, ...</td>\n",
       "      <td>[nan, nan, nan, nan, nan, nan, nan, nan, nan, ...</td>\n",
       "    </tr>\n",
       "    <tr>\n",
       "      <th>4</th>\n",
       "      <td>CCA</td>\n",
       "      <td>[nan, nan, nan, nan, nan, nan, nan, nan, nan, ...</td>\n",
       "      <td>[nan, nan, nan, nan, nan, nan, nan, nan, nan, ...</td>\n",
       "    </tr>\n",
       "  </tbody>\n",
       "</table>\n",
       "</div>"
      ],
      "text/plain": [
       "  COUNTRY.CODE                           ACCESS.ELECTRICITY.RURAL  \\\n",
       "0          BES  [nan, nan, nan, nan, nan, nan, nan, nan, nan, ...   \n",
       "1          NRU  [nan, nan, nan, nan, nan, nan, nan, nan, nan, ...   \n",
       "2          NIU  [nan, nan, nan, nan, nan, nan, nan, nan, nan, ...   \n",
       "3          WLF  [nan, nan, nan, nan, nan, nan, nan, nan, nan, ...   \n",
       "4          CCA  [nan, nan, nan, nan, nan, nan, nan, nan, nan, ...   \n",
       "\n",
       "                            ACCESS.ELECTRICITY.TOTAL  \n",
       "0  [nan, nan, nan, nan, nan, nan, nan, nan, nan, ...  \n",
       "1  [100.0, 100.0, 100.0, 100.0, 100.0, 100.0, 100...  \n",
       "2  [nan, nan, nan, nan, nan, nan, nan, nan, nan, ...  \n",
       "3  [nan, nan, nan, nan, nan, nan, nan, nan, nan, ...  \n",
       "4  [nan, nan, nan, nan, nan, nan, nan, nan, nan, ...  "
      ]
     },
     "execution_count": 6,
     "metadata": {},
     "output_type": "execute_result"
    }
   ],
   "source": [
    "finalDf.head()"
   ]
  },
  {
   "cell_type": "markdown",
   "metadata": {},
   "source": [
    "Now just get a json file out of this data frame."
   ]
  },
  {
   "cell_type": "code",
   "execution_count": 7,
   "metadata": {},
   "outputs": [],
   "source": [
    "finalDf.to_json(path_or_buf = \"country_electricity.json\", orient = 'records', lines = True)"
   ]
  },
  {
   "cell_type": "code",
   "execution_count": null,
   "metadata": {},
   "outputs": [],
   "source": []
  }
 ],
 "metadata": {
  "kernelspec": {
   "display_name": "Python 3",
   "language": "python",
   "name": "python3"
  },
  "language_info": {
   "codemirror_mode": {
    "name": "ipython",
    "version": 3
   },
   "file_extension": ".py",
   "mimetype": "text/x-python",
   "name": "python",
   "nbconvert_exporter": "python",
   "pygments_lexer": "ipython3",
   "version": "3.7.3"
  }
 },
 "nbformat": 4,
 "nbformat_minor": 2
}
