{
 "cells": [
  {
   "cell_type": "markdown",
   "metadata": {},
   "source": [
    "## HTML Country List Maker\n",
    "\n",
    "- This Notebook serves to create 2 html documents that contain the same list of countries based on our original data, only one is ordered by continent and the other isn't.\n",
    "\n",
    "- Importance: Have a standardized list of countries for the website"
   ]
  },
  {
   "cell_type": "code",
   "execution_count": 200,
   "metadata": {},
   "outputs": [],
   "source": [
    "import pandas as pd\n",
    "import numpy as np"
   ]
  },
  {
   "cell_type": "code",
   "execution_count": 201,
   "metadata": {},
   "outputs": [],
   "source": [
    "df = pd.read_csv('input/origin_data.csv')"
   ]
  },
  {
   "cell_type": "code",
   "execution_count": 202,
   "metadata": {},
   "outputs": [],
   "source": [
    "#for the purpose of DoMAD, we will show data for Special Administrrative Regions (Like Hong Kong) and other territories (like Greenland) as their own countries. \n",
    "non_countries = ['Caucasian and Central Asia', 'Caucasus and Central Asia', 'Eastern Asia (including Japan)', \\\n",
    "                'Eastern Asia (not including Japan)', 'Eastern Europe', 'Europe', 'High income', 'High income: OECD', \\\n",
    "                'High income: nonOECD', 'Latin America and Caribbean', 'Low & middle income', 'Low income', \\\n",
    "                'Lower middle income', 'Middle income', 'Not classified', 'Nothern America', 'Northern America', \\\n",
    "                'Oceania', 'Oceania (not including Australia and New Zealand)', 'Southern Asia', 'South Eastern Asia', \\\n",
    "                'Sub-Saharan Africa', 'Upper middle income', 'Western Asia', 'World']\n",
    "\n",
    "#get all indices to drop\n",
    "dropIndices = []\n",
    "for country in non_countries:\n",
    "    dropIndices += list(df.loc[df[\"Country Name\"] == country].index)\n",
    "\n",
    "#drop all indices\n",
    "df.drop(dropIndices, inplace = True)"
   ]
  },
  {
   "cell_type": "code",
   "execution_count": 227,
   "metadata": {},
   "outputs": [],
   "source": [
    "country_list = df[\"Country Name\"].unique()\n",
    "abbrv_list = df[\"Country Code\"].unique()\n",
    "\n",
    "#make an abbreviation dictionary, where given the country name, it gives the abbreviation for that country\n",
    "#this will be used later in the notebook\n",
    "abbrv_dict = {}\n",
    "for i in range(len(country_list)):\n",
    "    abbrv_dict[country_list[i]] = abbrv_list[i]"
   ]
  },
  {
   "cell_type": "code",
   "execution_count": 245,
   "metadata": {},
   "outputs": [],
   "source": [
    "def write_country_list(abbrv_list, country_list):\n",
    "    html_text = \"\"\n",
    "    with open(\"input/country_list.html\", 'r') as f:\n",
    "        for i, line in enumerate(f.readlines()[:]):\n",
    "            try:\n",
    "                #Just go through the pre-existing html and replace all countries with the pre-existing list.\n",
    "                optval = line[line.find('=\"')+1:line.rfind('\">')+1]\n",
    "                temp_line = line.replace(optval, abbrv_list[i])\n",
    "                option_text = line[line.find('\">')+2:line.rfind('<')]\n",
    "                temp_line = temp_line.replace(option_text, country_list[i])\n",
    "                html_text += temp_line\n",
    "            except:\n",
    "                continue\n",
    "    with open(\"output/country_list.html\", \"w\") as f:\n",
    "        f.write(html_text)\n",
    "    return"
   ]
  },
  {
   "cell_type": "markdown",
   "metadata": {},
   "source": [
    "Now that we have the normal list of countries, we need to make the continentally ordered list."
   ]
  },
  {
   "cell_type": "code",
   "execution_count": 206,
   "metadata": {},
   "outputs": [],
   "source": [
    "#Norm set serves as the standardized set of countries.\n",
    "#This allows us to use the set difference method, a great way to compare which items overlap between two sets.\n",
    "#In this case we will want the difference between the list of countries we already use and the list of countries\n",
    "#that are already in continental order\n",
    "norm_set = set(country_list)"
   ]
  },
  {
   "cell_type": "markdown",
   "metadata": {},
   "source": [
    "Let's get a sets of the countries in continental order."
   ]
  },
  {
   "cell_type": "code",
   "execution_count": 207,
   "metadata": {},
   "outputs": [],
   "source": [
    "def read_adapt_existing_country_list(change_function = None):\n",
    "    continental_sorted = {}\n",
    "    with open('input/countries_by_continents.html', 'r') as f:\n",
    "        for i, line in enumerate(f.readlines()[3:-2]):\n",
    "            if line.find(\"optgroup label\") == -1:\n",
    "                cur_country = line[line.find('\">')+2:line.rfind('<')]\n",
    "                # Make changes to the country names while reading them in\n",
    "                if change_function:\n",
    "                        cur_country = change_function(cur_country)\n",
    "                continental_sorted[continent_name].append(cur_country)\n",
    "            else:\n",
    "                ix1 = line.find('\"') #find the quotation marks to get the continent name\n",
    "                ix2 = line.rfind('\"')\n",
    "                continent_name = line[ix1+1:ix2]\n",
    "                continental_sorted[continent_name] = []\n",
    "                \n",
    "                \n",
    "    for key in continental_sorted:\n",
    "        continental_sorted[key] = set(continental_sorted[key][:-1]) #don't include the last one since it is always an empty string\n",
    "        \n",
    "    return continental_sorted\n",
    "\n",
    "countries_by_continent = read_adapt_existing_country_list()"
   ]
  },
  {
   "cell_type": "code",
   "execution_count": 208,
   "metadata": {},
   "outputs": [
    {
     "name": "stdout",
     "output_type": "stream",
     "text": [
      "================================\n",
      "Differences for: North America\n",
      "Pre-existing countries NOT in personal data list\n",
      "{'Saint Lucia', 'Bahamas', 'US Virgin Islands', 'Saint Kitts and Nevis', 'Saint Vincent and the Grenadines', 'United States Minor Outlying Islands'}\n",
      "================================\n",
      "Differences for: South America\n",
      "Pre-existing countries NOT in personal data list\n",
      "{'Falkland Islands (Malvinas)', 'French Guiana', 'Venezuela'}\n",
      "================================\n",
      "Differences for: Europe\n",
      "Pre-existing countries NOT in personal data list\n",
      "{'Croatia (Hrvatska)', 'Svalbard and Jan Mayen Islands', 'Holy See (Vatican City State)', 'Macedonia', 'Slovakia'}\n",
      "================================\n",
      "Differences for: Asia\n",
      "Pre-existing countries NOT in personal data list\n",
      "{'Cocos (Keeling) Islands', 'Hong Kong', 'Syria', 'Korea, Republic of', 'Myanmar (Burma)', 'Taiwan', 'Yemen', 'Lao', 'British Indian Ocean Territory', 'Christmas Island', 'Kyrgyzstan', 'East Timor', \"Korea, Democratic People's Republic of\", 'Iran'}\n",
      "================================\n",
      "Differences for: Australia / Oceania\n",
      "Pre-existing countries NOT in personal data list\n",
      "{'Pitcairn', 'French Polynesia (Tahiti)', 'Tokelau', 'Micronesia, Federated States of', 'Wallis and Futuna Islands'}\n",
      "================================\n",
      "Differences for: Africa\n",
      "Pre-existing countries NOT in personal data list\n",
      "{'Congo', 'Congo, the Democratic Republic of the', \"Cote d'Ivoire (Ivory Coast)\", 'Dijibouti', 'Egypt', 'Saint Helena', 'Gambia'}\n"
     ]
    }
   ],
   "source": [
    "def diff_checker(continentally_sorted_countries, norm_set):\n",
    "    for key in continentally_sorted_countries:\n",
    "        print(\"================================\")\n",
    "        print(\"Differences for:\", key)\n",
    "        print(\"Pre-existing countries NOT in personal data list\")\n",
    "        print(continentally_sorted_countries[key].difference(norm_set))\n",
    "    #     print(\"Personal data countries NOT in pre-existing list\")\n",
    "    #     print(norm_set.difference(countries_by_continent[key]))\n",
    "    \n",
    "diff_checker(countries_by_continent, norm_set)"
   ]
  },
  {
   "cell_type": "markdown",
   "metadata": {},
   "source": [
    "Now I gotta go through by hand to make the pre-existing ones adhere to the personal data list namings. Looking at the original data (aka. norm_set), we see that all names with 'saint' in them, have 'saint' abbreviated to 'st.'. So a good thing to do is go through the pre-existing data and make it change all 'saint'(s) to 'st.'(s). The rest of them I'm just going to hard-code."
   ]
  },
  {
   "cell_type": "code",
   "execution_count": 209,
   "metadata": {},
   "outputs": [
    {
     "name": "stdout",
     "output_type": "stream",
     "text": [
      "================================\n",
      "Differences for: North America\n",
      "Pre-existing countries NOT in personal data list\n",
      "{'United States Minor Outlying Islands'}\n",
      "================================\n",
      "Differences for: South America\n",
      "Pre-existing countries NOT in personal data list\n",
      "set()\n",
      "================================\n",
      "Differences for: Europe\n",
      "Pre-existing countries NOT in personal data list\n",
      "{'Holy See (Vatican City State)', 'Svalbard and Jan Mayen Islands'}\n",
      "================================\n",
      "Differences for: Asia\n",
      "Pre-existing countries NOT in personal data list\n",
      "{'British Indian Ocean Territory', 'Christmas Island', 'Cocos (Keeling) Islands'}\n",
      "================================\n",
      "Differences for: Australia / Oceania\n",
      "Pre-existing countries NOT in personal data list\n",
      "{'Tokelau', 'Pitcairn'}\n",
      "================================\n",
      "Differences for: Africa\n",
      "Pre-existing countries NOT in personal data list\n",
      "set()\n"
     ]
    }
   ],
   "source": [
    "def country_name_adapter(cname):\n",
    "    #given country name cname, convert the name to the standard\n",
    "    #return adapted cname, in this case change if it includes the word 'saint'\n",
    "    \n",
    "    if 'Saint' in cname:\n",
    "        cname = cname.replace('Saint', 'St.')\n",
    "    elif cname == 'Bahamas':\n",
    "        cname = 'Bahamas, The'\n",
    "    elif cname == 'US Virgin Islands':\n",
    "        cname = 'Virgin Islands (U.S.)'\n",
    "    elif cname == 'Falkland Islands (Malvinas)':\n",
    "        cname = 'Falkland Islands'\n",
    "    elif cname == 'French Guiana':\n",
    "        cname = 'French Guyana'\n",
    "    elif cname == 'Venezuela':\n",
    "        cname = 'Venezuela, RB'\n",
    "    elif cname == 'Croatia (Hrvatska)':\n",
    "        cname = 'Croatia'\n",
    "    elif cname == 'Macedonia':\n",
    "        cname = 'Macedonia, FYR'\n",
    "    elif cname == 'Slovakia':\n",
    "        cname = 'Slovak Republic'\n",
    "    elif cname == 'Hong Kong':\n",
    "        cname = 'Hong Kong SAR, China'\n",
    "    elif cname == 'Syria':\n",
    "        cname = 'Syrian Arab Republic'\n",
    "    elif cname == 'Korea, Republic of':\n",
    "        cname = 'Korea, Rep.'\n",
    "    elif cname == 'Myanmar (Burma)':\n",
    "        cname = 'Myanmar'\n",
    "    elif cname == 'Taiwan':\n",
    "        cname = 'Taiwan, China'\n",
    "    elif cname == 'Yemen':\n",
    "        cname = 'Yemen, Rep.'\n",
    "    elif cname == 'Lao':\n",
    "        cname = 'Lao PDR'\n",
    "    elif cname == 'Kyrgyzstan':\n",
    "        cname = 'Kyrgyz Republic'\n",
    "    elif cname == 'East Timor':\n",
    "        cname = 'Timor-Leste'\n",
    "    elif cname == \"Korea, Democratic People's Republic of\":\n",
    "        cname = 'Korea, Dem. Rep.'\n",
    "    elif cname == 'Iran':\n",
    "        cname = 'Iran, Islamic Rep.'\n",
    "    elif cname == 'French Polynesia (Tahiti)':\n",
    "        cname = 'French Polynesia'\n",
    "    elif cname == 'Micronesia, Federated States of':\n",
    "        cname = 'Micronesia, Fed. Sts.'\n",
    "    elif cname == 'Wallis and Futuna Islands':\n",
    "        cname = 'Wallis and Futuna'\n",
    "    elif cname == 'Congo, the Democratic Republic of the':\n",
    "        cname = 'Congo, Dem. Rep.'\n",
    "    elif cname == 'Congo':\n",
    "        cname = 'Congo, Rep.'\n",
    "    elif cname == \"Cote d'Ivoire (Ivory Coast)\":\n",
    "        cname = \"Cote d'Ivoire\"\n",
    "    elif cname == 'Dijibouti':\n",
    "        cname = 'Djibouti'\n",
    "    elif cname == 'Egypt':\n",
    "        cname = 'Egypt, Arab Rep.'\n",
    "    elif cname == 'Gambia':\n",
    "        cname = 'Gambia, The'\n",
    "    \n",
    "    return cname\n",
    "\n",
    "cbc = read_adapt_existing_country_list(country_name_adapter)\n",
    "diff_checker(cbc, norm_set)"
   ]
  },
  {
   "cell_type": "markdown",
   "metadata": {},
   "source": [
    "So we've gotten the results we wanted, the ones that are left are countries/territories that are not in the original data given. The left over ones are not in our pre-existing list of countries, so we let's remove them from this."
   ]
  },
  {
   "cell_type": "code",
   "execution_count": 210,
   "metadata": {},
   "outputs": [],
   "source": [
    "remove_cbc = {'North America': set(['United States Minor Outlying Islands']), \n",
    "           'South America': set([]), \n",
    "           'Europe': set(['Holy See (Vatican City State)', 'Svalbard and Jan Mayen Islands']),\n",
    "           'Asia': set(['British Indian Ocean Territory', 'Christmas Island', 'Cocos (Keeling) Islands']), \n",
    "           'Australia / Oceania': set(['Tokelau', 'Pitcairn']),\n",
    "           'Africa': set([])}\n",
    "\n",
    "for key in cbc:\n",
    "    cbc[key] = cbc[key].difference(remove_cbc[key])"
   ]
  },
  {
   "cell_type": "markdown",
   "metadata": {},
   "source": [
    "For that we're going to need to make one big set from all of the continental sets."
   ]
  },
  {
   "cell_type": "code",
   "execution_count": 211,
   "metadata": {},
   "outputs": [],
   "source": [
    "#cbc is a dictionary of sets containing the countries in the continent\n",
    "def combine_cbc(cbc):\n",
    "    cbc_in_one_set = cbc['North America']\n",
    "    for key in cbc:\n",
    "        cbc_in_one_set = cbc[key].union(cbc_in_one_set)\n",
    "    return cbc_in_one_set\n",
    "\n",
    "combined_cbc = combine_cbc(cbc)"
   ]
  },
  {
   "cell_type": "code",
   "execution_count": 212,
   "metadata": {},
   "outputs": [
    {
     "name": "stdout",
     "output_type": "stream",
     "text": [
      "{'Kosovo', 'West Bank and Gaza', 'Sint Maarten (Dutch part)', 'St. Martin (French part)', 'Macao SAR, China', 'Channel Islands', 'Curacao', 'Saint Pierre et Miquelon', 'Isle of Man', 'BES Islands'}\n"
     ]
    }
   ],
   "source": [
    "print(norm_set.difference(combined_cbc))"
   ]
  },
  {
   "cell_type": "markdown",
   "metadata": {},
   "source": [
    "Now I'm just going through manually and looking up the continent of each and then adding them to the appropriate continent set. "
   ]
  },
  {
   "cell_type": "code",
   "execution_count": 213,
   "metadata": {},
   "outputs": [],
   "source": [
    "add_cbc = {'North America': set(['Sint Maarten (Dutch part)', 'St. Martin (French part)', 'Saint Pierre et Miquelon']), \n",
    "           'South America': set(['Curacao', 'BES Islands']), \n",
    "           'Europe': set(['Kosovo', 'Channel Islands', 'Isle of Man']),\n",
    "           'Asia': set(['West Bank and Gaza', 'Macao SAR, China', ]), \n",
    "           'Australia / Oceania': set([]),\n",
    "           'Africa': set([])}\n",
    "\n",
    "for key in cbc:\n",
    "    cbc[key] = cbc[key].union(add_cbc[key])"
   ]
  },
  {
   "cell_type": "code",
   "execution_count": 214,
   "metadata": {},
   "outputs": [
    {
     "name": "stdout",
     "output_type": "stream",
     "text": [
      "set()\n",
      "set()\n"
     ]
    }
   ],
   "source": [
    "final_combined_cbc = combine_cbc(cbc)\n",
    "print(norm_set.difference(final_combined_cbc))\n",
    "print(final_combined_cbc.difference(norm_set))"
   ]
  },
  {
   "cell_type": "markdown",
   "metadata": {},
   "source": [
    "As we can see there is no difference between the sets. This means that all of the countries are the same, but in the cbc dictionary we now have them ordered by continent. Now all that is left is to write it out in html."
   ]
  },
  {
   "cell_type": "code",
   "execution_count": 247,
   "metadata": {},
   "outputs": [],
   "source": [
    "def write_cbc_list(cbc):\n",
    "    #initialize the html\n",
    "    html_text = \"<label for='addressCountry'>Country</label>\\n<select name='addressCountry'>\\n  <option></option>\\n\"\n",
    "\n",
    "    for key in cbc:\n",
    "        html_text += \"  <optgroup label='\" + key + \"'>\\n\"\n",
    "        for country in sorted(list(cbc[key])):\n",
    "            html_text += \"    <option value='\" + abbrv_dict[country] + \"'>\" + country + '</option>\\n'\n",
    "        html_text += \"  </optgroup>\\n\"\n",
    "    html_text+= \"</select>\"\n",
    "    \n",
    "    with open(\"output/countries_by_continents.html\", 'w') as f:\n",
    "        f.write(html_text)\n",
    "    return"
   ]
  },
  {
   "cell_type": "code",
   "execution_count": 248,
   "metadata": {},
   "outputs": [],
   "source": [
    "write_country_list(abbrv_list, country_list)\n",
    "write_cbc_list(cbc)"
   ]
  },
  {
   "cell_type": "markdown",
   "metadata": {},
   "source": [
    "And we're done! We got it!"
   ]
  },
  {
   "cell_type": "code",
   "execution_count": null,
   "metadata": {},
   "outputs": [],
   "source": []
  }
 ],
 "metadata": {
  "kernelspec": {
   "display_name": "Python 3",
   "language": "python",
   "name": "python3"
  },
  "language_info": {
   "codemirror_mode": {
    "name": "ipython",
    "version": 3
   },
   "file_extension": ".py",
   "mimetype": "text/x-python",
   "name": "python",
   "nbconvert_exporter": "python",
   "pygments_lexer": "ipython3",
   "version": "3.7.3"
  }
 },
 "nbformat": 4,
 "nbformat_minor": 2
}
